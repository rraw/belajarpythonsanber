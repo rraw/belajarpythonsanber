{
  "nbformat": 4,
  "nbformat_minor": 0,
  "metadata": {
    "kernelspec": {
      "display_name": "Python 3",
      "language": "python",
      "name": "python3"
    },
    "language_info": {
      "codemirror_mode": {
        "name": "ipython",
        "version": 3
      },
      "file_extension": ".py",
      "mimetype": "text/x-python",
      "name": "python",
      "nbconvert_exporter": "python",
      "pygments_lexer": "ipython3",
      "version": "3.7.6"
    },
    "colab": {
      "name": "r.ryanadiwicaksana@gmail.com.ipynb",
      "provenance": [],
      "collapsed_sections": [],
      "include_colab_link": true
    }
  },
  "cells": [
    {
      "cell_type": "markdown",
      "metadata": {
        "id": "view-in-github",
        "colab_type": "text"
      },
      "source": [
        "<a href=\"https://colab.research.google.com/github/rraw/belajarpythonsanber/blob/master/r_ryanadiwicaksana_gmail_com.ipynb\" target=\"_parent\"><img src=\"https://colab.research.google.com/assets/colab-badge.svg\" alt=\"Open In Colab\"/></a>"
      ]
    },
    {
      "cell_type": "markdown",
      "metadata": {
        "id": "NlALYZT93usC",
        "colab_type": "text"
      },
      "source": [
        "<h2>Tugas Harian No 1 : Pemahaman Component Matplotlib</h2>\n",
        "\n",
        "- Jelaskan apa itu Figure\n",
        "- Jelaskan apa itu Axis"
      ]
    },
    {
      "cell_type": "markdown",
      "metadata": {
        "id": "TuKjq08o3usF",
        "colab_type": "text"
      },
      "source": [
        "Figure, adalah window atau page atau halaman dalam objek visual. kalau kita ngegambar di kertas, maka kertas tersebutlah yang di namakan figure.\n",
        "\n",
        "Axis, kedalam Figure kita menambahkan Axis, Axis adalah suatu area di dalam figure dimana data akan di plot. di dalam Axis juga terdapat berbagai macam komponen lagi seperti x-axis, y-axis, dan lain sebagainya."
      ]
    },
    {
      "cell_type": "code",
      "metadata": {
        "id": "a99tAbct3usG",
        "colab_type": "code",
        "colab": {}
      },
      "source": [
        ""
      ],
      "execution_count": 0,
      "outputs": []
    },
    {
      "cell_type": "markdown",
      "metadata": {
        "id": "ac2eN09t3usM",
        "colab_type": "text"
      },
      "source": [
        "<h2>Tugas Harian No 2 : Membuat Component Figure dan Axis</h2>\n",
        "\n",
        "- Buatlah Figure dan Axis kosong tanpa Data\n",
        "- Plot data di bawah ini dengan 2 cara, yaitu dengan membuat figure dan axis secara explicit dan Implicit"
      ]
    },
    {
      "cell_type": "code",
      "metadata": {
        "id": "QppAgVFo3usN",
        "colab_type": "code",
        "colab": {}
      },
      "source": [
        "import numpy as np\n",
        "import matplotlib.pyplot as plt\n",
        "\n",
        "x = np.linspace(0, 20, 100)\n",
        "y = np.cos(x/2)"
      ],
      "execution_count": 0,
      "outputs": []
    },
    {
      "cell_type": "code",
      "metadata": {
        "id": "5Xo6DdSL3usS",
        "colab_type": "code",
        "colab": {}
      },
      "source": [
        "import matplotlib.pyplot as plt\n",
        "import numpy as np\n",
        "\n",
        "#Buatlah Figure dan Axis kosong tanpa Data\n",
        "fig = plt.figure()\n",
        "# membuat objek axis\n",
        "ax = fig.add_subplot()\n",
        "# menampilkan\n",
        "plt.show()\n",
        "\n",
        "#Plot data di bawah ini dengan 2 cara, yaitu dengan membuat figure dan axis secara explicit dan Implicit\n",
        "#Cara 1 (Eksplisit)\n",
        "fig = plt.figure()\n",
        "\n",
        "# membuat objek axis\n",
        "ax = fig.add_subplot()\n",
        "\n",
        "# menambahkan data\n",
        "x = np.linspace(0, 20, 100)\n",
        "y = np.cos(x/2)\n",
        "\n",
        "# menambahkan dalam ke objek axes\n",
        "ax.plot(x, y)\n",
        "\n",
        "# menampilkan\n",
        "plt.show()\n",
        "#===================================================================================\n",
        "#Cara 2 (Implisit)\n",
        "fig = plt.figure()\n",
        "\n",
        "# membuat objek visual\n",
        "plt.plot(x, y)\n",
        "\n",
        "# menampilkan objek visual\n",
        "plt.show()"
      ],
      "execution_count": 0,
      "outputs": []
    },
    {
      "cell_type": "markdown",
      "metadata": {
        "id": "ti2DDsTT3usX",
        "colab_type": "text"
      },
      "source": [
        "Exected Output :\n",
        "\n",
        "![image.png](attachment:image.png)"
      ]
    },
    {
      "cell_type": "markdown",
      "metadata": {
        "id": "sZWQ_JFS3usY",
        "colab_type": "text"
      },
      "source": [
        "Expected Output :\n",
        "\n",
        "![image.png](attachment:image.png)"
      ]
    },
    {
      "cell_type": "markdown",
      "metadata": {
        "id": "PkA7eqMI3usZ",
        "colab_type": "text"
      },
      "source": [
        "<h2>Tugas Harian No 3 : Memasukan multiple data ke dalam satu axis</h2>\n",
        "\n",
        "- Plot ketiga data berikut ke dalam satu axis, dan gunakan seaborn style\n",
        "- save data tersebut dengan nama file bebas"
      ]
    },
    {
      "cell_type": "code",
      "metadata": {
        "id": "ioqzvba63usa",
        "colab_type": "code",
        "colab": {}
      },
      "source": [
        "x = np.linspace(0, 20, 100)\n",
        "y = np.cos(x/2)\n",
        "y2 = np.sin(x)\n",
        "y3 = np.sin(2*x)"
      ],
      "execution_count": 0,
      "outputs": []
    },
    {
      "cell_type": "code",
      "metadata": {
        "id": "403O7n_R3use",
        "colab_type": "code",
        "colab": {}
      },
      "source": [
        "# inisiasi\n",
        "fig, ax = plt.subplots()\n",
        "\n",
        "# mamasukkan data\n",
        "x = np.linspace(0, 20, 100)\n",
        "y = np.cos(x/2)\n",
        "y2 = np.sin(x)\n",
        "y3 = np.sin(2*x)\n",
        "\n",
        "#menambahkan data ke objek ax\n",
        "ax.plot(x, y)\n",
        "ax.plot(x, y2)\n",
        "ax.plot(x, y3)\n",
        "\n",
        "#nmenampilkan data\n",
        "plt.show()"
      ],
      "execution_count": 0,
      "outputs": []
    },
    {
      "cell_type": "markdown",
      "metadata": {
        "id": "LLkJcAgu3usi",
        "colab_type": "text"
      },
      "source": [
        "Expected Output :\n",
        "\n",
        "![image.png](attachment:image.png)"
      ]
    },
    {
      "cell_type": "code",
      "metadata": {
        "id": "TC7OB7Gr3usj",
        "colab_type": "code",
        "colab": {}
      },
      "source": [
        ""
      ],
      "execution_count": 0,
      "outputs": []
    }
  ]
}