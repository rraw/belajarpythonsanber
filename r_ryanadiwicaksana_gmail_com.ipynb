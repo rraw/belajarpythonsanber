{
  "nbformat": 4,
  "nbformat_minor": 0,
  "metadata": {
    "kernelspec": {
      "display_name": "Python 3",
      "language": "python",
      "name": "python3"
    },
    "language_info": {
      "codemirror_mode": {
        "name": "ipython",
        "version": 3
      },
      "file_extension": ".py",
      "mimetype": "text/x-python",
      "name": "python",
      "nbconvert_exporter": "python",
      "pygments_lexer": "ipython3",
      "version": "3.7.7"
    },
    "colab": {
      "name": "r.ryanadiwicaksana@gmail.com.ipynb",
      "provenance": [],
      "include_colab_link": true
    }
  },
  "cells": [
    {
      "cell_type": "markdown",
      "metadata": {
        "id": "view-in-github",
        "colab_type": "text"
      },
      "source": [
        "<a href=\"https://colab.research.google.com/github/rraw/belajarpythonsanber/blob/master/r_ryanadiwicaksana_gmail_com.ipynb\" target=\"_parent\"><img src=\"https://colab.research.google.com/assets/colab-badge.svg\" alt=\"Open In Colab\"/></a>"
      ]
    },
    {
      "cell_type": "code",
      "metadata": {
        "id": "fXy-Ze7nnkIr",
        "colab_type": "code",
        "colab": {},
        "outputId": "dcf4994e-b2c2-4db5-f1ae-03f45f502841"
      },
      "source": [
        "# solusi tanpa menggunakan set\n",
        "\n",
        "def remove_duplicate(obj_list):\n",
        "    new_list = obj_list\n",
        "    i = 0\n",
        "    while i < len(new_list):\n",
        "        j = i+1\n",
        "        while j < len(new_list):\n",
        "            if new_list[i] == new_list[j]:\n",
        "                del new_list[j]\n",
        "            else:\n",
        "                j += 1\n",
        "        i += 1\n",
        "    return new_list\n",
        "\n",
        "# solusi dengan menggunakan set\n",
        "def remove_duplicate_with_set(obj_list):\n",
        "    new_list = set(obj_list)\n",
        "    sorted(new_list)\n",
        "    return new_list\n",
        "\n",
        "obj_list = [1, 2, 4, 6, 2, 1, 4, 5, 7, 8, 6]\n",
        "print(remove_duplicate(obj_list))\n",
        "print(remove_duplicate_with_set(obj_list))"
      ],
      "execution_count": 0,
      "outputs": [
        {
          "output_type": "stream",
          "text": [
            "[1, 2, 4, 6, 5, 7, 8]\n",
            "{1, 2, 4, 5, 6, 7, 8}\n"
          ],
          "name": "stdout"
        }
      ]
    },
    {
      "cell_type": "code",
      "metadata": {
        "id": "akFJtOi3nkI2",
        "colab_type": "code",
        "colab": {},
        "outputId": "f52438eb-1fcc-4316-cb65-91a28c6dfd12"
      },
      "source": [
        "# import library\n",
        "from datetime import datetime\n",
        "import random\n",
        "\n",
        "# ganti dengan sebuah nama\n",
        "nama  = \"Ryan\"\n",
        "# variabel tanggal\n",
        "tanggal = datetime.now().day\n",
        "# default variabel untuk pertanyaan tidak diketahui\n",
        "default = \"maaf, aku tidak tahu jawaban dari pertanyaanmu\"\n",
        "\n",
        "# Membuat objek dictionary berisi berbagai opsi jawaban\n",
        "\n",
        "# list jawaban untuk pertanyaan tentang nama\n",
        "jawaban_nama = [\n",
        "      \"nama saya  {0}\".format(nama),\n",
        "      \"orang-orang memanggil saya {0}\".format(nama),\n",
        "      \"panggil saja saya {0}\".format(nama)\n",
        "   ]\n",
        "\n",
        "# list jawaban untuk pertanyaan tentang tanggal\n",
        "jawaban_tanggal = [\n",
        "      \"hari ini tanggal {0}\".format(tanggal),\n",
        "      \"ya ampun masa tidak tahu, hari ini tanggal\".format(tanggal)\n",
        "    ]\n",
        "\n",
        "# opsi pertanyaan yang bisa dijawab\n",
        "pertanyaan = {\n",
        "  \"nama kamu siapa?\": jawaban_nama,\n",
        "  \"kamu siapa?\" : jawaban_nama,\n",
        "  \"tanggal berapa hari ini?\": jawaban_tanggal,\n",
        "  \"hari ini tanggal berapa?\" : jawaban_tanggal,\n",
        "  \"default\": default\n",
        "}\n",
        "\n",
        "# list jawaban untuk sebuah argument selain pertanyaan\n",
        "statement =  [\n",
        "                  'ceritakan lebih banyak!',\n",
        "                  'kenapa kamu berpikir begitu?',\n",
        "                  'sudah berapa lama kamu merasa seperti ini?',\n",
        "                  'Itu sangat menarik!',\n",
        "                  'oh wow!',\n",
        "                  ':)'\n",
        "              ]\n",
        "\n",
        "# respon keseluruhan\n",
        "responses = {\n",
        "    'pertanyaan' : pertanyaan,\n",
        "    'statement' : statement\n",
        "}\n",
        "#------\n",
        "             \n",
        "# ayo buat chatbotmu\n",
        "def chatbot(message):\n",
        "    x = set(message)\n",
        "    if '?' in x:\n",
        "        responses = message.split(' ')\n",
        "        if 'nama' in responses:\n",
        "            print(random.choice(jawaban_nama))\n",
        "        elif 'tanggal' in responses:\n",
        "            print(random.choice(jawaban_tanggal))\n",
        "        else:\n",
        "            print(default)\n",
        "    else:\n",
        "        responses=statement\n",
        "        print(random.choice(statement))\n",
        "\n",
        "        \n",
        "chatbot('Selamat Pagi')\n",
        "chatbot('Mau bermain bersamaku?')\n",
        "chatbot('nama kamu siapa?')\n",
        "chatbot('hari ini tanggal berapa?')\n",
        "\n",
        "\n",
        "# output :\n",
        "# :)\n",
        "# maaf, aku tidak tahu jawaban dari pertanyaanmu\n",
        "# orang-orang memanggil saya Nama Anda\n",
        "# ya ampun masa tidak tahu, hari ini tanggal\n"
      ],
      "execution_count": 0,
      "outputs": [
        {
          "output_type": "stream",
          "text": [
            "kenapa kamu berpikir begitu?\n",
            "maaf, aku tidak tahu jawaban dari pertanyaanmu\n",
            "orang-orang memanggil saya Ryan\n",
            "ya ampun masa tidak tahu, hari ini tanggal\n"
          ],
          "name": "stdout"
        }
      ]
    }
  ]
}