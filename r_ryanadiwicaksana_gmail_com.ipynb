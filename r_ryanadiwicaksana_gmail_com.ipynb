{
  "nbformat": 4,
  "nbformat_minor": 0,
  "metadata": {
    "kernelspec": {
      "display_name": "Python 3",
      "language": "python",
      "name": "python3"
    },
    "language_info": {
      "codemirror_mode": {
        "name": "ipython",
        "version": 3
      },
      "file_extension": ".py",
      "mimetype": "text/x-python",
      "name": "python",
      "nbconvert_exporter": "python",
      "pygments_lexer": "ipython3",
      "version": "3.7.7"
    },
    "colab": {
      "name": "r.ryanadiwicaksana@gmail.com.ipynb",
      "provenance": [],
      "collapsed_sections": [],
      "include_colab_link": true
    }
  },
  "cells": [
    {
      "cell_type": "markdown",
      "metadata": {
        "id": "view-in-github",
        "colab_type": "text"
      },
      "source": [
        "<a href=\"https://colab.research.google.com/github/rraw/belajarpythonsanber/blob/master/r_ryanadiwicaksana_gmail_com.ipynb\" target=\"_parent\"><img src=\"https://colab.research.google.com/assets/colab-badge.svg\" alt=\"Open In Colab\"/></a>"
      ]
    },
    {
      "cell_type": "markdown",
      "metadata": {
        "id": "4he9dsWBDej9",
        "colab_type": "text"
      },
      "source": [
        "<h2>Quiz 1 : Hello World to Python</h2>\n",
        "    \n",
        "Print Say Hello World to Python"
      ]
    },
    {
      "cell_type": "code",
      "metadata": {
        "id": "0Ee5a9I8F0vt",
        "colab_type": "code",
        "colab": {}
      },
      "source": [
        "print( \"Hello World Python\")"
      ],
      "execution_count": 0,
      "outputs": []
    },
    {
      "cell_type": "markdown",
      "metadata": {
        "id": "gdvEBQhiDekH",
        "colab_type": "text"
      },
      "source": [
        "Expected Output : \n",
        "\n",
        "Hello World Python"
      ]
    },
    {
      "cell_type": "markdown",
      "metadata": {
        "id": "Hun6c8vdDekJ",
        "colab_type": "text"
      },
      "source": [
        "h2>Quiz 2 : Aritmatika di Python </h2>\n",
        "    \n",
        "- Buat statement pertambahan antara 2 number di Python\n",
        "- Buat statement perkurangan antara 2 number di Python\n",
        "- Buat statement perkalian antara 2 number di Python\n",
        "- Buat statement pembagian antara 2 number di Python"
      ]
    },
    {
      "cell_type": "code",
      "metadata": {
        "id": "7xexMtkDDekK",
        "colab_type": "code",
        "colab": {}
      },
      "source": [
        "a=9\n",
        "b=5\n",
        "print(\"penjumlahan\",a,\"+\",b,\"=\",a+b)\n",
        "print(\"pengurangan\",a,\"-\",b,\"=\",a-b)\n",
        "print(\"perkalian\",a,\"x\",b,\"=\",a*b)\n",
        "print(\"pembagian (integer)\",a,\":\",b,\"=\",a//b)\n",
        "print(\"pembagian (real)\",a,\":\",b,\"=\",a/b)"
      ],
      "execution_count": 0,
      "outputs": []
    },
    {
      "cell_type": "markdown",
      "metadata": {
        "id": "OlHhL4JODekQ",
        "colab_type": "text"
      },
      "source": [
        "<h2>Quiz 3 : Assign Variable dan Tipe Data Integer, Float </h2>\n",
        "\n",
        "- Buat suatu variabel a dan b, dimana a dan b adalah nilai bertipe data numeric\n",
        "- Berikan suatu nilai bertipe data integer, hasil pembagian dari a dengan b\n",
        "- Berikan suatu nilai bertipe data float, hasil pembagian dari a dengan b"
      ]
    },
    {
      "cell_type": "code",
      "metadata": {
        "id": "y_pNh3ibDekR",
        "colab_type": "code",
        "colab": {}
      },
      "source": [
        "a=9\n",
        "b=5\n",
        "\n",
        "print(\"pembagian (integer)\",a,\":\",b,\"=\",a//b)\n",
        "print(\"pembagian (float)\",a,\":\",b,\"=\",a/b)"
      ],
      "execution_count": 0,
      "outputs": []
    },
    {
      "cell_type": "markdown",
      "metadata": {
        "id": "WOTnj9CkDekZ",
        "colab_type": "text"
      },
      "source": [
        "<h2>Quiz 4 : String Operation </h2>\n",
        "\n",
        "- masukan nama depan kamu kedalam suatu variable firstname\n",
        "- masukan nama belakang kamu kedalam suatu variable lasname\n",
        "- tampilkan suatu kalimat 'Hello sanbercode, saya firstname lastname! saya siap belajar python data science.'"
      ]
    },
    {
      "cell_type": "code",
      "metadata": {
        "id": "k13gVuVXDeka",
        "colab_type": "code",
        "colab": {}
      },
      "source": [
        "firstname='ryan adi'\n",
        "lastname='wicaksana'\n",
        "\n",
        "print(\"Hello sanbercode, saya \"+firstname+\" \"+lastname+\"! saya siap belajar python data science.\")"
      ],
      "execution_count": 0,
      "outputs": []
    },
    {
      "cell_type": "markdown",
      "metadata": {
        "id": "46TntpppDekg",
        "colab_type": "text"
      },
      "source": [
        "Expected Output :\n",
        "\n",
        "Hello sanbercode, saya fauzan taufik! saya siap belajar python data science."
      ]
    },
    {
      "cell_type": "markdown",
      "metadata": {
        "id": "I51U6T5hDekh",
        "colab_type": "text"
      },
      "source": [
        "<h2>Quiz 5 : Tipe Data</h2>\n",
        "\n",
        "Lengkapi code di bawah ini untuk menghasilkan output yang sesuai"
      ]
    },
    {
      "cell_type": "code",
      "metadata": {
        "id": "XhYzZstnDeki",
        "colab_type": "code",
        "colab": {}
      },
      "source": [
        "p = 9.99999\n",
        "q = 'the number : '\n",
        "print(q + ...(p))"
      ],
      "execution_count": 0,
      "outputs": []
    },
    {
      "cell_type": "markdown",
      "metadata": {
        "id": "ogpxdGudDeko",
        "colab_type": "text"
      },
      "source": [
        "Expected Output :\n",
        "\n",
        "the number : 9.99999"
      ]
    },
    {
      "cell_type": "code",
      "metadata": {
        "id": "0NO4Xbr-Dekq",
        "colab_type": "code",
        "colab": {}
      },
      "source": [
        "p = 9.99999\n",
        "q = 'the number : '\n",
        "print(q,p)"
      ],
      "execution_count": 0,
      "outputs": []
    }
  ]
}