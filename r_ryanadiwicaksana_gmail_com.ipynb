{
  "nbformat": 4,
  "nbformat_minor": 0,
  "metadata": {
    "kernelspec": {
      "display_name": "Python 3",
      "language": "python",
      "name": "python3"
    },
    "language_info": {
      "codemirror_mode": {
        "name": "ipython",
        "version": 3
      },
      "file_extension": ".py",
      "mimetype": "text/x-python",
      "name": "python",
      "nbconvert_exporter": "python",
      "pygments_lexer": "ipython3",
      "version": "3.7.7"
    },
    "colab": {
      "name": "r.ryanadiwicaksana@gmail.com.ipynb",
      "provenance": [],
      "collapsed_sections": [],
      "include_colab_link": true
    }
  },
  "cells": [
    {
      "cell_type": "markdown",
      "metadata": {
        "id": "view-in-github",
        "colab_type": "text"
      },
      "source": [
        "<a href=\"https://colab.research.google.com/github/rraw/belajarpythonsanber/blob/master/r_ryanadiwicaksana_gmail_com.ipynb\" target=\"_parent\"><img src=\"https://colab.research.google.com/assets/colab-badge.svg\" alt=\"Open In Colab\"/></a>"
      ]
    },
    {
      "cell_type": "markdown",
      "metadata": {
        "id": "a9HYUdCUsrKl",
        "colab_type": "text"
      },
      "source": [
        "<h2>Quiz 1 : Comparison Operator</h2>\n",
        "\n",
        "- Berikan contoh comparison dari tipe data string\n",
        "- Berikan contoh comparison dari tipe data boolean\n",
        "- Berikan contoh comparison dari tipe data integer"
      ]
    },
    {
      "cell_type": "code",
      "metadata": {
        "id": "lXMCHZ71srKp",
        "colab_type": "code",
        "colab": {}
      },
      "source": [
        "#contoh comparison tipe data string\n",
        "a = 'durian'\n",
        "b = 'durian'\n",
        "print(a==b)\n",
        "\n",
        "#contoh comparison tipe data boolean\n",
        "d = a==b\n",
        "c = True\n",
        "if (c==d):\n",
        "  print('data sama')\n",
        "else:  \n",
        "    print ('data beda')\n",
        "\n",
        "#contoh comparison tipe data integer\n",
        "x = 7\n",
        "y = 13\n",
        "if (x==y):\n",
        "  print ('x sama dengan y')\n",
        "elif (x>y):\n",
        "  print ('x lebih besar daripada y')\n",
        "#x<y\n",
        "else:\n",
        "  print ('x lebih kecil daripada y')\n"
      ],
      "execution_count": 0,
      "outputs": []
    },
    {
      "cell_type": "markdown",
      "metadata": {
        "id": "IbNoZvVssrK5",
        "colab_type": "text"
      },
      "source": [
        "<h2>Quiz 2 : Boolean Comparison</h2>\n",
        "\n",
        "- Berikan contoh gabungan multiple comparison menggunkan Boolean Comparisin 'and'\n",
        "- Berikan contoh gabungan multiple comparison menggunkan Boolean Comparisin 'or'\n",
        "- Berikan contoh gabungan multiple comparison menggunkan Boolean Comparisin 'not'"
      ]
    },
    {
      "cell_type": "code",
      "metadata": {
        "id": "7eU1vPLCsrK7",
        "colab_type": "code",
        "colab": {}
      },
      "source": [
        "ruangan = 'Kamar'\n",
        "size = 20\n",
        "ruangan2 = 'dapur'\n",
        "\n",
        "#gabungan multiple comparison dan and\n",
        "if (ruangan=='Kamar') and (size>12):\n",
        "    print('Besar')\n",
        "else:\n",
        "    print('kecil')\n",
        "\n",
        "#gabungan multiple comparison dan or\n",
        "if (ruangan=='Kamar') or (ruangan2=='Kamar Mandi'):\n",
        "    print('Saya suka')\n",
        "else:\n",
        "    print('saya tidak suka')\n",
        "\n",
        "#gabungan multiple comparison dan not\n",
        "if not(ruangan2=='dapur'):\n",
        "    print('Saya tidak mau')\n",
        "else:\n",
        "    print('Saya mau')"
      ],
      "execution_count": 0,
      "outputs": []
    },
    {
      "cell_type": "markdown",
      "metadata": {
        "id": "Yp_g_sPMsrLH",
        "colab_type": "text"
      },
      "source": [
        "<h2>Quiz 3 : If-Else Statement</h2>\n",
        "\n",
        "Lengkapi kode untuk menghasilkan suatu output yang di harapkan\n",
        "\n",
        "- Bualah sebuah if-else statement yang dimana akan mem-print 'Besar' jika ruangan adalah 'Kamar' dan ukuran lebih dari 12, kemudian mem-print 'Sedang' jika ruangan adalah 'Kamar' dan ukuran lebih dari 6 dan memprint 'Kecil' jika ruangan adalah 'Kamar' dan ukuran ruangan lebih kecil dan sama dengan 6."
      ]
    },
    {
      "cell_type": "code",
      "metadata": {
        "id": "euRiRNupsrLK",
        "colab_type": "code",
        "colab": {}
      },
      "source": [
        "ruangan = 'Kamar'\n",
        "size = 20\n",
        "\n",
        "if (ruangan=='Kamar') and (size>12):\n",
        "    print('Besar')\n",
        "elif (ruangan=='Kamar') and (size>6):\n",
        "    print('Sedang')\n",
        "#(ruangan=='Kamar') and (size<=6)\n",
        "else:\n",
        "    print('Kecil')"
      ],
      "execution_count": 0,
      "outputs": []
    },
    {
      "cell_type": "markdown",
      "metadata": {
        "id": "IcoJXJT1srLW",
        "colab_type": "text"
      },
      "source": [
        "<h2>Quiz 4 : Comparison Operator dengan fungsi</h2>\n",
        "\n",
        "Buatlah sebuah fungsi yang menerima satu argument bertipe data numeric dan menghasilkan sebuah return sebagai berikut :\n",
        "- menghasilkan return 'Aneh' jika nilai dari argument tersebut adalah bilangan ganjil\n",
        "- menghasilkan return 'Tidak Aneh' jika nilai dari argument tersebut adalah bilangan genap dan diantara nilai 2 sampai 5 (2 dan 5 termasuk)\n",
        "- menghasilkan return 'Aneh' jika nilai dari argument tersebut adalah bilangan genap dan diantara nilai 6 sampai 20 (6 dan 20 termasuk)\n",
        "- menghasilkan return 'Tidak Aneh' jika nilai dari argument tersebut adalah bilangan genap dan lebih besari dari 20"
      ]
    },
    {
      "cell_type": "code",
      "metadata": {
        "id": "g8F_qfEKsrLZ",
        "colab_type": "code",
        "colab": {}
      },
      "source": [
        "# Buat fungsi\n",
        "def fungsino4(angka):\n",
        "    if angka%2 == 1:\n",
        "        return print('Aneh')\n",
        "    elif (angka%2 == 0) and ((angka >=2) and (angka<=5)):\n",
        "        return print('Tidak Aneh')\n",
        "    elif (angka%2 == 0) and ((angka >=6) and (angka<=20)):\n",
        "        return print('Aneh')\n",
        "    elif (angka%2 == 0) and (angka >=20):\n",
        "        return print('Tidak Aneh')\n",
        "    \n",
        "    #tambahan, untuk yg tidak terdefinsi seperti angka negatif, baik ganjil atau genap\n",
        "    else:\n",
        "        return print('Tidak Terdefinisi')"
      ],
      "execution_count": 0,
      "outputs": []
    },
    {
      "cell_type": "markdown",
      "metadata": {
        "id": "gf0D64xOsrLl",
        "colab_type": "text"
      },
      "source": [
        "<h2>Quiz 5 : While Loop dan For Loop</h2>\n",
        "\n",
        "- Apa perbedaan while loop dan for loop?\n",
        "- Berikan contoh sederhana cara menggunakan while loop dan for loop"
      ]
    },
    {
      "cell_type": "code",
      "metadata": {
        "id": "l7KIgpjHsrLo",
        "colab_type": "code",
        "colab": {}
      },
      "source": [
        "# Perulangan while adalah uncounted loop (perulangan yang tak terhitung). perulangan while tidak tentu berapa banyak perulangannya dan biasanya memiliki kondisi / syarat untuk berhenti\n",
        "# Perulangan for adalah counted loop (perulangan yang terhitung). perulangan for biasanya digunakan untuk mengulangi kode yang sudah diketahui banyak perulangannya\n",
        "\n",
        "# Tulis Kode\n",
        "#contoh while, mengeprint angka 0 sampai 5\n",
        "i = 0\n",
        "while i < 5:\n",
        "    print(i, end=' ')\n",
        "    i += 1\n",
        "\n",
        "#contoh for, mengeprint sesuatu sebanyak 5x\n",
        "for i in range(5):\n",
        "    print(\"sesuatu. ini indeks ke-\", i)"
      ],
      "execution_count": 0,
      "outputs": []
    },
    {
      "cell_type": "markdown",
      "metadata": {
        "id": "fZQpBGCgsrLz",
        "colab_type": "text"
      },
      "source": [
        "<h2>Quiz 6 : While Loop</h2>\n",
        "    \n",
        "Buatlah sebuah code while loop sebagai berikut :\n",
        "- Buatlah suatu fungsi yang merima satu input nilai numeric\n",
        "- Dalam fungsi, Buat sebuah while-loop dengan melakukan comparasi terhadap inputan tersebut, dimana looping/iterasi terus berjalan apabila nilai inputan tidak sama dengan 0\n",
        "- Dalam setiap iterasi update nilai variable inputan itu, jika input lebih dari 0, maka kurangi variabel tersebut sebesar 1, selain itu tambahkan 1\n",
        "- print nilai variable input dalam setiap awal iterasi"
      ]
    },
    {
      "cell_type": "code",
      "metadata": {
        "id": "yOiqjrU2srL1",
        "colab_type": "code",
        "colab": {}
      },
      "source": [
        "a = 10\n",
        "\n",
        "def fungsi_while(angka):\n",
        "    while angka!=0:\n",
        "        print(angka)\n",
        "        if angka > 0:\n",
        "            angka -= 1\n",
        "        else:\n",
        "            angka += 1\n",
        "\n",
        "fungsi_while(a)"
      ],
      "execution_count": 0,
      "outputs": []
    },
    {
      "cell_type": "markdown",
      "metadata": {
        "id": "lKzngRrlsrMD",
        "colab_type": "text"
      },
      "source": [
        "Expected Output :\n",
        "\n",
        "10\n",
        "\n",
        "9\n",
        "\n",
        "8\n",
        "\n",
        "7\n",
        "\n",
        "6\n",
        "\n",
        "5\n",
        "\n",
        "4\n",
        "\n",
        "3\n",
        "\n",
        "2\n",
        "\n",
        "1"
      ]
    },
    {
      "cell_type": "markdown",
      "metadata": {
        "id": "IWg3Z_zZsrMG",
        "colab_type": "text"
      },
      "source": [
        "<h2>Quiz 7 : For Loop</h2>\n",
        "    \n",
        "Lengkapi kode untuk menghasilkan suatu output yang di harapkan:\n",
        "\n",
        "- Buatlah sebuah loop dengan mengiterasi sebuah objek list kemudian di kalikan dengan index dari list tersebut dan print hasilnya"
      ]
    },
    {
      "cell_type": "code",
      "metadata": {
        "id": "_Jl5i7WKsrMI",
        "colab_type": "code",
        "colab": {}
      },
      "source": [
        "obj_list= [1, 16, 11, 10, 5]\n",
        "\n",
        "# lengkapi code di bawah\n",
        "for i,obj in enumerate(obj_list):\n",
        "    print(obj*i)\n"
      ],
      "execution_count": 0,
      "outputs": []
    },
    {
      "cell_type": "markdown",
      "metadata": {
        "id": "OGawROjnsrMU",
        "colab_type": "text"
      },
      "source": [
        "Expected Output :\n",
        "\n",
        "0\n",
        "\n",
        "16\n",
        "\n",
        "22\n",
        "\n",
        "30\n",
        "\n",
        "20\n"
      ]
    }
  ]
}